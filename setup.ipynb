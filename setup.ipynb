{
 "cells": [
  {
   "cell_type": "markdown",
   "metadata": {},
   "source": [
    "```shell\n",
    "python -m venv ."
   ]
  },
  {
   "cell_type": "markdown",
   "metadata": {},
   "source": [
    "```shell\n",
    "Scripts\\activate"
   ]
  },
  {
   "cell_type": "markdown",
   "metadata": {},
   "source": [
    "```shell\n",
    "maturin develop"
   ]
  },
  {
   "cell_type": "markdown",
   "metadata": {},
   "source": [
    "# RUST ODBC 2 CSV"
   ]
  },
  {
   "cell_type": "markdown",
   "metadata": {},
   "source": [
    "Extracting data from ODBC Source to CSV using Rust, made to be memory eficient and fast!"
   ]
  },
  {
   "cell_type": "code",
   "execution_count": 9,
   "metadata": {},
   "outputs": [],
   "source": [
    "import os, json\n",
    "from py_rust_odbc_csv import odbc_csv"
   ]
  },
  {
   "cell_type": "code",
   "execution_count": 10,
   "metadata": {},
   "outputs": [],
   "source": [
    "conn = f\"Driver={{iSeries Access ODBC Driver}};System=172.21.11.1;Uid={os.environ['USERNAME']};Pwd={os.environ['BNK_PASS']}\"\n",
    "query = \"SELECT * FROM \\\"BIAPRT\\\".\\\"GGR12\\\"\""
   ]
  },
  {
   "cell_type": "code",
   "execution_count": 11,
   "metadata": {},
   "outputs": [
    {
     "data": {
      "text/plain": [
       "{'success': True,\n",
       " 'msg': 'Success: C:\\\\Users\\\\joaot\\\\AppData\\\\Local\\\\Temp\\\\/c7194c3c-1f9f-4ec7-a5c5-c13312b87170.csv',\n",
       " 'fname': 'C:\\\\Users\\\\joaot\\\\AppData\\\\Local\\\\Temp\\\\/c7194c3c-1f9f-4ec7-a5c5-c13312b87170.csv'}"
      ]
     },
     "execution_count": 11,
     "metadata": {},
     "output_type": "execute_result"
    }
   ],
   "source": [
    "res = odbc_csv([conn, query])\n",
    "r = json.loads(res)"
   ]
  },
  {
   "cell_type": "code",
   "execution_count": null,
   "metadata": {},
   "outputs": [],
   "source": [
    "if r.get('success') is True:\n",
    "    pass # YOUR LOGIC HERE"
   ]
  },
  {
   "cell_type": "markdown",
   "metadata": {},
   "source": [
    "The result will be in JSON format (```json \n",
    "{success: bool, msg: str, fname: str (path)}```)"
   ]
  },
  {
   "cell_type": "markdown",
   "metadata": {},
   "source": []
  }
 ],
 "metadata": {
  "kernelspec": {
   "display_name": "py-rust-odbc-csv",
   "language": "python",
   "name": "python3"
  },
  "language_info": {
   "codemirror_mode": {
    "name": "ipython",
    "version": 3
   },
   "file_extension": ".py",
   "mimetype": "text/x-python",
   "name": "python",
   "nbconvert_exporter": "python",
   "pygments_lexer": "ipython3",
   "version": "3.10.11"
  }
 },
 "nbformat": 4,
 "nbformat_minor": 2
}
